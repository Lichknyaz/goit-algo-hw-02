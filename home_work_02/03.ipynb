{
 "cells": [
  {
   "cell_type": "code",
   "execution_count": 14,
   "metadata": {},
   "outputs": [],
   "source": [
    "class Stack:\n",
    "  def __init__(self):\n",
    "    self.stack = []\n",
    "\n",
    "  # Додавання елемента до стеку\n",
    "  def push(self, item):\n",
    "    self.stack.append(item)\n",
    "\n",
    "  # Видалення елемента зі стеку\n",
    "  def pop(self):\n",
    "    if len(self.stack) < 1:\n",
    "      return None\n",
    "    return self.stack.pop()\n",
    "\n",
    "  # Перевірка, чи стек порожній\n",
    "  def is_empty(self):\n",
    "    return len(self.stack) == 0\n",
    "\n",
    "  # Перегляд верхнього елемента стеку без його видалення\n",
    "  def peek(self):\n",
    "    if not self.is_empty():\n",
    "      return self.stack[-1]"
   ]
  },
  {
   "cell_type": "code",
   "execution_count": 63,
   "metadata": {},
   "outputs": [],
   "source": [
    "def is_symmetrical ():\n",
    "    string_of_symbols = input(\"Input parentheses\")\n",
    "    stack = Stack()\n",
    "    open_parentheses = \"([{\"\n",
    "    closed_parentheses = \")]}\"\n",
    "\n",
    "    string_corrected = []\n",
    "    for i in string_of_symbols:\n",
    "        if i in open_parentheses+closed_parentheses:\n",
    "            string_corrected.append(i)\n",
    "\n",
    "    if (len(string_corrected) % 2 != 0) or (string_corrected[0] in closed_parentheses):\n",
    "        return \"Not equal number of parentheses or starts with closed\"\n",
    "    else:\n",
    "        symmetrical = True\n",
    "        for char in string_corrected:\n",
    "            if char in open_parentheses:\n",
    "                stack.push(char)\n",
    "            else:\n",
    "                if open_parentheses.index(stack.peek()) == closed_parentheses.index(char):\n",
    "                    print(f\"Popped {stack.peek()} and {char}\")\n",
    "                    stack.pop()\n",
    "                    \n",
    "                else:\n",
    "                    symmetrical = False\n",
    "                    print(f\"Not symmetrical {stack.peek()} and {char}\")\n",
    "                    return\n",
    "        if stack.is_empty() and symmetrical:\n",
    "            return \"Symmetrical\"\n"
   ]
  },
  {
   "cell_type": "code",
   "execution_count": 66,
   "metadata": {},
   "outputs": [
    {
     "name": "stdout",
     "output_type": "stream",
     "text": [
      "Not symmetrical ( and }\n"
     ]
    }
   ],
   "source": [
    "        \n",
    "is_symmetrical()"
   ]
  }
 ],
 "metadata": {
  "kernelspec": {
   "display_name": "Python 3",
   "language": "python",
   "name": "python3"
  },
  "language_info": {
   "codemirror_mode": {
    "name": "ipython",
    "version": 3
   },
   "file_extension": ".py",
   "mimetype": "text/x-python",
   "name": "python",
   "nbconvert_exporter": "python",
   "pygments_lexer": "ipython3",
   "version": "3.12.2"
  }
 },
 "nbformat": 4,
 "nbformat_minor": 2
}
