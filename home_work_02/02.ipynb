{
 "cells": [
  {
   "cell_type": "code",
   "execution_count": 127,
   "metadata": {},
   "outputs": [],
   "source": [
    "from collections import deque\n",
    "\n",
    "def is_polindrome ():\n",
    "    line = deque()\n",
    "    string = input(\"Enter string\")\n",
    "    string_corr = string.lower().replace(\" \", \"\")\n",
    "    for i in string_corr:\n",
    "        line.append(i)\n",
    "    while len(line) > 1:\n",
    "        if line.pop() == line.popleft():\n",
    "            continue\n",
    "        else:\n",
    "            print(f\"{string} - Not polindrome\")\n",
    "            break\n",
    "    else:\n",
    "        print(f\"{string} - Is polindrome\")  "
   ]
  },
  {
   "cell_type": "code",
   "execution_count": 128,
   "metadata": {},
   "outputs": [
    {
     "name": "stdout",
     "output_type": "stream",
     "text": [
      "hk - Not polindrome\n"
     ]
    }
   ],
   "source": [
    "is_polindrome()"
   ]
  }
 ],
 "metadata": {
  "kernelspec": {
   "display_name": "Python 3",
   "language": "python",
   "name": "python3"
  },
  "language_info": {
   "codemirror_mode": {
    "name": "ipython",
    "version": 3
   },
   "file_extension": ".py",
   "mimetype": "text/x-python",
   "name": "python",
   "nbconvert_exporter": "python",
   "pygments_lexer": "ipython3",
   "version": "3.12.2"
  }
 },
 "nbformat": 4,
 "nbformat_minor": 2
}
