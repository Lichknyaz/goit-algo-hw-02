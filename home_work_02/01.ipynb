{
 "cells": [
  {
   "cell_type": "code",
   "execution_count": 7,
   "metadata": {},
   "outputs": [],
   "source": [
    "from queue import Queue\n",
    "import random\n",
    "\n",
    "queue = Queue()\n",
    "\n",
    "def generate_request(quantity: int):\n",
    "    for _ in range(quantity):\n",
    "        request = random.randint(1,10)\n",
    "        queue.put(request)\n",
    "    print(queue.queue)\n",
    "    return queue\n",
    "\n",
    "def process_request(queue: Queue, quantity_process):\n",
    "        if not queue.empty():\n",
    "            for _ in range(quantity_process):\n",
    "                print(f\"Request {queue.get()} processed\")\n",
    "                print(queue.queue)\n",
    "                if queue.empty():\n",
    "                     print(\"Queue is empty, add requests to process\")\n",
    "                     break\n",
    "        else:\n",
    "            print(\"Queue is empty, add requests to process\")\n",
    "            \n"
   ]
  },
  {
   "cell_type": "code",
   "execution_count": 8,
   "metadata": {},
   "outputs": [
    {
     "name": "stdout",
     "output_type": "stream",
     "text": [
      "deque([3, 9, 9, 9, 3])\n",
      "Request 3 processed\n",
      "deque([9, 9, 9, 3])\n",
      "Request 9 processed\n",
      "deque([9, 9, 3])\n",
      "Request 9 processed\n",
      "deque([9, 3])\n",
      "Request 9 processed\n",
      "deque([3])\n",
      "Request 3 processed\n",
      "deque([])\n",
      "Queue is empty, add requests to process\n",
      "deque([1, 5, 2, 1, 5, 4])\n",
      "Request 1 processed\n",
      "deque([5, 2, 1, 5, 4])\n",
      "Request 5 processed\n",
      "deque([2, 1, 5, 4])\n",
      "Request 2 processed\n",
      "deque([1, 5, 4])\n",
      "Request 1 processed\n",
      "deque([5, 4])\n",
      "Request 5 processed\n",
      "deque([4])\n"
     ]
    }
   ],
   "source": [
    "while True:\n",
    "    command = input (\"\"\"To generate request - type \"G\", to process - type \"P\", to stop - type \"exit\" \"\"\")\n",
    "    if command == \"G\":\n",
    "        quantity_generate = int(input(\"How many request?\"))\n",
    "        queue = generate_request(quantity_generate)\n",
    "    elif command == \"P\":\n",
    "        quantity_process = int(input(\"How many request?\"))\n",
    "        process_request(queue, quantity_process)\n",
    "    elif command == \"exit\":\n",
    "        break\n",
    "    else:\n",
    "        print (\"\"\"To generate request - type \"G\", to process - type \"P\", to stop - type \"exit\" \"\"\")\n"
   ]
  }
 ],
 "metadata": {
  "kernelspec": {
   "display_name": "Python 3",
   "language": "python",
   "name": "python3"
  },
  "language_info": {
   "codemirror_mode": {
    "name": "ipython",
    "version": 3
   },
   "file_extension": ".py",
   "mimetype": "text/x-python",
   "name": "python",
   "nbconvert_exporter": "python",
   "pygments_lexer": "ipython3",
   "version": "3.12.2"
  }
 },
 "nbformat": 4,
 "nbformat_minor": 2
}
